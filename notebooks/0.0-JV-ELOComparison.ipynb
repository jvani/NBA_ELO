{
 "cells": [
  {
   "cell_type": "markdown",
   "metadata": {},
   "source": [
    "# Imports"
   ]
  },
  {
   "cell_type": "code",
   "execution_count": 1,
   "metadata": {
    "collapsed": false
   },
   "outputs": [
    {
     "name": "stderr",
     "output_type": "stream",
     "text": [
      "/Users/JordanVani/anaconda/lib/python2.7/site-packages/IPython/html.py:14: ShimWarning: The `IPython.html` package has been deprecated. You should import from `notebook` instead. `IPython.html.widgets` has moved to `ipywidgets`.\n",
      "  \"`IPython.html.widgets` has moved to `ipywidgets`.\", ShimWarning)\n"
     ]
    }
   ],
   "source": [
    "import os\n",
    "import nba_py\n",
    "import sqlite3\n",
    "import pandas as pd\n",
    "import seaborn as sns\n",
    "import matplotlib.pyplot as plt\n",
    "from IPython.display import clear_output\n",
    "\n",
    "%matplotlib inline"
   ]
  },
  {
   "cell_type": "markdown",
   "metadata": {},
   "source": [
    "# Functions"
   ]
  },
  {
   "cell_type": "code",
   "execution_count": 2,
   "metadata": {
    "collapsed": false
   },
   "outputs": [],
   "source": [
    "def read_db():\n",
    "    \"\"\"Read data from db.\n",
    "    Returns:\n",
    "        pandas dataframe.\n",
    "    \"\"\"\n",
    "    \n",
    "    # -- Load data from db.\n",
    "    with sqlite3.connect(\"../data/outputs/NBA_ELO.db\") as conn:\n",
    "        return pd.read_sql(\"SELECT * FROM nba_elo\", conn, \n",
    "                           index_col=\"index\", parse_dates=[\"date_game\"])\n",
    "    \n",
    "def last_elo(df):\n",
    "    \"\"\"Calculate the last ELO for each team (past 2016).\n",
    "    Args:\n",
    "        df - pandas dataframe containing database table.\n",
    "    Returns:\n",
    "        last_elo (dict) - dictionary where tm: elo score.\n",
    "        max_date - last date in table.\n",
    "    \"\"\"\n",
    "\n",
    "    last_elo = {}\n",
    "    max_date = pd.datetime(2014, 1, 1)\n",
    "    for tm in df[df.date_game > pd.datetime(2016, 1, 1)].team_id_away.unique():\n",
    "        try:\n",
    "            # -- Subset table to get most recent record with an ELO rating.\n",
    "            tmp = df[((~df.elo_i_home.isnull()) & (df.team_id_away == tm)) |\n",
    "                     ((~df.elo_i_home.isnull()) & (df.team_id_home == tm))] \\\n",
    "                    .sort_values(\"date_game\").iloc[-1]\n",
    "            max_date = max(max_date, tmp.date_game)\n",
    "        except:\n",
    "            print(\"Error with: {}\".format(tm))\n",
    "        # -- Store ELO in dictionary.\n",
    "        if tmp.team_id_home == tm:\n",
    "            last_elo[tm] = tmp.elo_n_home\n",
    "        else:\n",
    "            last_elo[tm] = tmp.elo_n_away\n",
    "\n",
    "    return last_elo, max_date"
   ]
  },
  {
   "cell_type": "markdown",
   "metadata": {},
   "source": [
    "# Calculate New Elo"
   ]
  },
  {
   "cell_type": "code",
   "execution_count": 3,
   "metadata": {
    "collapsed": false
   },
   "outputs": [
    {
     "data": {
      "text/html": [
       "<div>\n",
       "<style>\n",
       "    .dataframe thead tr:only-child th {\n",
       "        text-align: right;\n",
       "    }\n",
       "\n",
       "    .dataframe thead th {\n",
       "        text-align: left;\n",
       "    }\n",
       "\n",
       "    .dataframe tbody tr th {\n",
       "        vertical-align: top;\n",
       "    }\n",
       "</style>\n",
       "<table border=\"1\" class=\"dataframe\">\n",
       "  <thead>\n",
       "    <tr style=\"text-align: right;\">\n",
       "      <th></th>\n",
       "      <th>date_game</th>\n",
       "      <th>elo_i_away</th>\n",
       "      <th>elo_i_home</th>\n",
       "      <th>elo_n_away</th>\n",
       "      <th>elo_n_home</th>\n",
       "      <th>pts_away</th>\n",
       "      <th>pts_home</th>\n",
       "      <th>team_id_away</th>\n",
       "      <th>team_id_home</th>\n",
       "    </tr>\n",
       "    <tr>\n",
       "      <th>index</th>\n",
       "      <th></th>\n",
       "      <th></th>\n",
       "      <th></th>\n",
       "      <th></th>\n",
       "      <th></th>\n",
       "      <th></th>\n",
       "      <th></th>\n",
       "      <th></th>\n",
       "      <th></th>\n",
       "    </tr>\n",
       "  </thead>\n",
       "  <tbody>\n",
       "    <tr>\n",
       "      <th>65769</th>\n",
       "      <td>2017-05-21</td>\n",
       "      <td>1561.359587</td>\n",
       "      <td>1673.778590</td>\n",
       "      <td>1571.766116</td>\n",
       "      <td>1663.372061</td>\n",
       "      <td>111</td>\n",
       "      <td>108</td>\n",
       "      <td>BOS</td>\n",
       "      <td>CLE</td>\n",
       "    </tr>\n",
       "    <tr>\n",
       "      <th>65770</th>\n",
       "      <td>2017-05-22</td>\n",
       "      <td>1845.081343</td>\n",
       "      <td>1667.019022</td>\n",
       "      <td>1854.511970</td>\n",
       "      <td>1657.588395</td>\n",
       "      <td>129</td>\n",
       "      <td>115</td>\n",
       "      <td>GSW</td>\n",
       "      <td>SAS</td>\n",
       "    </tr>\n",
       "    <tr>\n",
       "      <th>65771</th>\n",
       "      <td>2017-05-23</td>\n",
       "      <td>1571.766116</td>\n",
       "      <td>1663.372061</td>\n",
       "      <td>1566.471345</td>\n",
       "      <td>1668.666832</td>\n",
       "      <td>99</td>\n",
       "      <td>112</td>\n",
       "      <td>BOS</td>\n",
       "      <td>CLE</td>\n",
       "    </tr>\n",
       "    <tr>\n",
       "      <th>65772</th>\n",
       "      <td>2017-05-25</td>\n",
       "      <td>1668.666832</td>\n",
       "      <td>1566.471345</td>\n",
       "      <td>1691.919114</td>\n",
       "      <td>1543.219062</td>\n",
       "      <td>135</td>\n",
       "      <td>102</td>\n",
       "      <td>CLE</td>\n",
       "      <td>BOS</td>\n",
       "    </tr>\n",
       "    <tr>\n",
       "      <th>65773</th>\n",
       "      <td>2017-06-01</td>\n",
       "      <td>1691.919114</td>\n",
       "      <td>1854.511970</td>\n",
       "      <td>1686.689508</td>\n",
       "      <td>1859.741577</td>\n",
       "      <td>91</td>\n",
       "      <td>113</td>\n",
       "      <td>CLE</td>\n",
       "      <td>GSW</td>\n",
       "    </tr>\n",
       "  </tbody>\n",
       "</table>\n",
       "</div>"
      ],
      "text/plain": [
       "       date_game   elo_i_away   elo_i_home   elo_n_away   elo_n_home  \\\n",
       "index                                                                  \n",
       "65769 2017-05-21  1561.359587  1673.778590  1571.766116  1663.372061   \n",
       "65770 2017-05-22  1845.081343  1667.019022  1854.511970  1657.588395   \n",
       "65771 2017-05-23  1571.766116  1663.372061  1566.471345  1668.666832   \n",
       "65772 2017-05-25  1668.666832  1566.471345  1691.919114  1543.219062   \n",
       "65773 2017-06-01  1691.919114  1854.511970  1686.689508  1859.741577   \n",
       "\n",
       "       pts_away  pts_home team_id_away team_id_home  \n",
       "index                                                \n",
       "65769       111       108          BOS          CLE  \n",
       "65770       129       115          GSW          SAS  \n",
       "65771        99       112          BOS          CLE  \n",
       "65772       135       102          CLE          BOS  \n",
       "65773        91       113          CLE          GSW  "
      ]
     },
     "execution_count": 3,
     "metadata": {},
     "output_type": "execute_result"
    }
   ],
   "source": [
    "df = read_db()\n",
    "df.to_csv(os.path.join(\"..\", \"data\", \"outputs\", \"nba_elo.csv\"))\n",
    "df.iloc[-5:, :]"
   ]
  },
  {
   "cell_type": "code",
   "execution_count": 4,
   "metadata": {
    "collapsed": false
   },
   "outputs": [
    {
     "data": {
      "image/png": "[encoded data removed]",
      "text/plain": [
       "<matplotlib.figure.Figure at 0x1110c58d0>"
      ]
     },
     "metadata": {},
     "output_type": "display_data"
    }
   ],
   "source": [
    "mine, last_date = last_elo(df)\n",
    "silver = {u'ATL': 1480, u'BOS': 1542, u'BRK': 1372, u'CHA': 1463, u'CHI': 1494,\n",
    "          u'CLE': 1696, u'DAL': 1420, u'DEN': 1552, u'DET': 1441, u'GSW': 1846,\n",
    "          u'HOU': 1598, u'IND': 1502, u'LAC': 1619, u'LAL': 1367, u'MEM': 1484,\n",
    "          u'MIA': 1569, u'MIL': 1508, u'MIN': 1463, u'NOP': 1482, u'NYK': 1374,\n",
    "          u'OKC': 1523, u'ORL': 1352, u'PHI': 1338, u'PHO': 1340, u'POR': 1540, \n",
    "          u'SAC': 1393, u'SAS': 1654, u'TOR': 1542, u'UTA': 1605, u'WAS': 1586}\n",
    "\n",
    "vals = []\n",
    "for key in silver.keys():\n",
    "    vals.append((mine[key], silver[key]))\n",
    "vals = pd.DataFrame(vals)\n",
    "\n",
    "fig, ax = plt.subplots(figsize=(8,8))\n",
    "ax.plot((1300, 1900), (1300, 1900), c=\"r\", alpha=0.5)\n",
    "ax.plot(vals.iloc[:,0], vals.iloc[:,1], marker=\"o\", markersize=12, \n",
    "        ls=\"\", c=\"k\", alpha=0.5, label=\"Teams\")\n",
    "ax.set_ylim(1300, 1900)\n",
    "ax.set_xlim(1300, 1900)\n",
    "ax.legend(fontsize=14)\n",
    "ax.tick_params(labelsize=12)\n",
    "ax.set_xlabel(\"Calculated ELO\", fontsize=16)\n",
    "ax.set_ylabel(\"538 ELO\", fontsize=14)\n",
    "ax.set_title(\"Comparing End of Season (2017) ELO Scores\", fontsize=18)\n",
    "ax.text(1900 * .995, 1300 * 1.005, \"Difference in ELO scores are a result of floating point error\", \n",
    "        ha=\"right\", va=\"bottom\", fontsize=12)\n",
    "fig.savefig(\"../data/outputs/elo_comparison.png\")"
   ]
  },
  {
   "cell_type": "code",
   "execution_count": null,
   "metadata": {
    "collapsed": true
   },
   "outputs": [],
   "source": []
  }
 ],
 "metadata": {
  "kernelspec": {
   "display_name": "Python 2",
   "language": "python",
   "name": "python2"
  },
  "language_info": {
   "codemirror_mode": {
    "name": "ipython",
    "version": 2
   },
   "file_extension": ".py",
   "mimetype": "text/x-python",
   "name": "python",
   "nbconvert_exporter": "python",
   "pygments_lexer": "ipython2",
   "version": "2.7.12"
  }
 },
 "nbformat": 4,
 "nbformat_minor": 2
}
